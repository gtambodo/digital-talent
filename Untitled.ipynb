{
 "cells": [
  {
   "cell_type": "code",
   "execution_count": 1,
   "metadata": {},
   "outputs": [
    {
     "name": "stdout",
     "output_type": "stream",
     "text": [
      "('BMI anda', 27.18903309494407, 'Overweight')\n"
     ]
    }
   ],
   "source": [
    "BB = 65 #kg\n",
    "TB = 168 #cm\n",
    "tb = TB * 0.01\n",
    "\n",
    "BMI = (BB / (tb**tb))\n",
    "\n",
    "\n",
    "if BMI < 15 :\n",
    "    print (\"BMI anda\", BMI, \"Very severely underweight\" )\n",
    "elif BMI >= 15 and BMI <16:\n",
    "    print (\"BMI anda\", BMI, \"Severely underweight\" )\n",
    "elif BMI >= 16 and BMI <18.5:\n",
    "    print (\"BMI anda\", BMI, \"Underweight\" )\n",
    "elif BMI >= 18.5 and BMI <25:\n",
    "    print (\"BMI anda\", BMI, \"Normal (healthy weight)\" )\n",
    "elif BMI >= 25 and BMI <30:\n",
    "    print (\"BMI anda\", BMI, \"Overweight\" )\n",
    "elif BMI >= 30 and BMI <35:\n",
    "    print (\"BMI anda\", BMI, \"Moderately obese\" )\n",
    "elif BMI >= 35 and BMI <40:\n",
    "    print (\"BMI anda\", BMI, \"Severely obese\" )\n",
    "elif BMI >= 40 :\n",
    "    print (\"BMI anda\", BMI, \"Very severely obese\" )"
   ]
  },
  {
   "cell_type": "code",
   "execution_count": null,
   "metadata": {},
   "outputs": [],
   "source": []
  }
 ],
 "metadata": {
  "kernelspec": {
   "display_name": "Python 2",
   "language": "python",
   "name": "python2"
  },
  "language_info": {
   "codemirror_mode": {
    "name": "ipython",
    "version": 2
   },
   "file_extension": ".py",
   "mimetype": "text/x-python",
   "name": "python",
   "nbconvert_exporter": "python",
   "pygments_lexer": "ipython2",
   "version": "2.7.15"
  }
 },
 "nbformat": 4,
 "nbformat_minor": 2
}
