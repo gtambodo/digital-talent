{
 "cells": [
  {
   "cell_type": "markdown",
   "metadata": {},
   "source": [
    "# Tugas Word Count \n",
    "## Gigih Tri Ambodo\n",
    "Diberikan sebuah paragraf, hitunglah banyak kemunculan masing-masing kata. Contoh : \"Presiden pagi ini melakukan kunjungan ke Jogja\"\n",
    "\n",
    "presiden: 1\n",
    "pagi: 1\n",
    "ini: 1\n",
    "melakukan: 1\n",
    "kunjungan: 1\n",
    "ke: 1\n",
    "jogja: 1\n",
    "hints: Gunakan Dictionary dalam menyimpan word count. Gunakan kata sebagai key, dan jumlah kemunculan sebagai value "
   ]
  },
  {
   "cell_type": "code",
   "execution_count": 7,
   "metadata": {},
   "outputs": [
    {
     "name": "stdout",
     "output_type": "stream",
     "text": [
      "Variabel Global adalah variabel yang bisa diakses dari semua fungsi, sedangkan variabel lokal hanya bisa diakses di dalam fungsi tempat ia berada saja. Pada Python, urutan pengaksesan variabel (scope) dikenal dengan sebutan LGB (Local, Global, dan Build-in). Jadi program python mulai mencari vairabel lokal terlebih dahulu, kalau ada maka itu yang digunakan. Tapi kalau tidak ada, pencarian terus ke Global, dan Build-in. Variabel Build-in adalah variabel yang sudah ada di dalam Python.\n"
     ]
    }
   ],
   "source": [
    "paragraf = \"Variabel Global adalah variabel yang bisa diakses dari semua fungsi, sedangkan variabel lokal hanya bisa diakses di dalam fungsi tempat ia berada saja. Pada Python, urutan pengaksesan variabel (scope) dikenal dengan sebutan LGB (Local, Global, dan Build-in). Jadi program python mulai mencari vairabel lokal terlebih dahulu, kalau ada maka itu yang digunakan. Tapi kalau tidak ada, pencarian terus ke Global, dan Build-in. Variabel Build-in adalah variabel yang sudah ada di dalam Python.\"\n",
    "print (paragraf)"
   ]
  },
  {
   "cell_type": "code",
   "execution_count": 3,
   "metadata": {},
   "outputs": [],
   "source": [
    "paragraf = paragraf.replace (\"  \",\"\")\n",
    "paragraf = paragraf.replace (\".\",\"\")\n",
    "paragraf = paragraf.replace (\",\",\"\")\n",
    "paragraf = paragraf.lower ()\n"
   ]
  },
  {
   "cell_type": "code",
   "execution_count": 14,
   "metadata": {},
   "outputs": [
    {
     "name": "stdout",
     "output_type": "stream",
     "text": [
      "('program', '=', 1)\n",
      "('mencari', '=', 1)\n",
      "('digunakan.', '=', 1)\n",
      "('diakses', '=', 2)\n",
      "('terus', '=', 1)\n",
      "('dikenal', '=', 1)\n",
      "('vairabel', '=', 1)\n",
      "('sudah', '=', 1)\n",
      "('sedangkan', '=', 1)\n",
      "('ia', '=', 1)\n",
      "('ke', '=', 1)\n",
      "('itu', '=', 1)\n",
      "('Build-in', '=', 1)\n",
      "('pencarian', '=', 1)\n",
      "('semua', '=', 1)\n",
      "('Python,', '=', 1)\n",
      "('(scope)', '=', 1)\n",
      "('Build-in).', '=', 1)\n",
      "('dahulu,', '=', 1)\n",
      "('dalam', '=', 2)\n",
      "('Global,', '=', 2)\n",
      "('maka', '=', 1)\n",
      "('dengan', '=', 1)\n",
      "('ada,', '=', 1)\n",
      "('tidak', '=', 1)\n",
      "('ada', '=', 2)\n",
      "('adalah', '=', 2)\n",
      "('kalau', '=', 2)\n",
      "('mulai', '=', 1)\n",
      "('fungsi,', '=', 1)\n",
      "('di', '=', 2)\n",
      "('python', '=', 1)\n",
      "('dan', '=', 2)\n",
      "('Variabel', '=', 2)\n",
      "('dari', '=', 1)\n",
      "('Python.', '=', 1)\n",
      "('Tapi', '=', 1)\n",
      "('berada', '=', 1)\n",
      "('pengaksesan', '=', 1)\n",
      "('saja.', '=', 1)\n",
      "('sebutan', '=', 1)\n",
      "('Pada', '=', 1)\n",
      "('Build-in.', '=', 1)\n",
      "('Jadi', '=', 1)\n",
      "('hanya', '=', 1)\n",
      "('tempat', '=', 1)\n",
      "('LGB', '=', 1)\n",
      "('Global', '=', 1)\n",
      "('variabel', '=', 4)\n",
      "('urutan', '=', 1)\n",
      "('(Local,', '=', 1)\n",
      "('yang', '=', 3)\n",
      "('lokal', '=', 2)\n",
      "('fungsi', '=', 1)\n",
      "('terlebih', '=', 1)\n",
      "('bisa', '=', 2)\n"
     ]
    }
   ],
   "source": [
    "dictText = dict()\n",
    "kata_kata = paragraf.split(\" \")\n",
    "for kata in kata_kata:\n",
    "    dictText [kata] = dictText.get(kata,0) + 1\n",
    "    \n",
    "for kata, count in dictText.items():\n",
    "    print (kata,\"=\", count)\n"
   ]
  },
  {
   "cell_type": "code",
   "execution_count": null,
   "metadata": {},
   "outputs": [],
   "source": []
  }
 ],
 "metadata": {
  "kernelspec": {
   "display_name": "Python 2",
   "language": "python",
   "name": "python2"
  },
  "language_info": {
   "codemirror_mode": {
    "name": "ipython",
    "version": 2
   },
   "file_extension": ".py",
   "mimetype": "text/x-python",
   "name": "python",
   "nbconvert_exporter": "python",
   "pygments_lexer": "ipython2",
   "version": "2.7.15"
  }
 },
 "nbformat": 4,
 "nbformat_minor": 2
}
