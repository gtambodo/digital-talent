{
 "cells": [
  {
   "cell_type": "markdown",
   "metadata": {},
   "source": [
    "# Tugas Latihan Pertemuan 2\n",
    "## Nama : Gigih Tri Ambodo\n",
    "### LATIHAN 2 - Tugas List Nilai\n",
    "#### Soal\n",
    "Diberikan sekumpulan Nilai Random antara 0 sampai dengan 100 sebanyak 250 nilai. Buatlah program untuk melakukan hal berikut:\n",
    "\n",
    "1. Tampilkan Angka Ganjil dari ke 250 nilai tersebut\n",
    "2. Tampilkan berapa banyak yang mendapatkan nilai lebih dari 70\n",
    "3. Tampilkan standar deviasi dari sekumpulan nilai tersebut\n",
    "4. Tampilkan nilai maksimum dan minimum\n",
    "5. Tampilkan modus dari sekumpulan nilai tersebut\n"
   ]
  },
  {
   "cell_type": "code",
   "execution_count": 2,
   "metadata": {},
   "outputs": [
    {
     "name": "stdout",
     "output_type": "stream",
     "text": [
      "[27, 29, 99, 43, 70, 89, 24, 51, 50, 88, 36, 91, 57, 20, 76, 86, 29, 50, 57, 63, 73, 32, 43, 78, 21, 97, 20, 50, 48, 67, 12, 12, 13, 12, 17, 90, 92, 36, 55, 52, 39, 33, 98, 32, 27, 96, 27, 16, 3, 54, 62, 48, 55, 61, 85, 71, 69, 38, 87, 57, 37, 26, 61, 99, 66, 99, 85, 21, 53, 86, 19, 55, 22, 77, 1, 55, 95, 77, 82, 96, 37, 61, 89, 35, 95, 72, 66, 63, 24, 14, 47, 88, 14, 45, 93, 98, 93, 85, 69, 80, 70, 13, 77, 26, 38, 23, 80, 23, 31, 31, 24, 10, 6, 63, 4, 60, 97, 68, 90, 19, 47, 66, 5, 63, 39, 33, 13, 73, 81, 87, 18, 28, 15, 99, 61, 11, 25, 28, 33, 8, 31, 45, 14, 43, 17, 47, 87, 24, 53, 24, 34, 94, 23, 15, 56, 6, 24, 64, 88, 40, 81, 74, 28, 77, 68, 22, 17, 61, 68, 99, 83, 37, 58, 41, 66, 81, 89, 90, 99, 38, 30, 34, 32, 65, 86, 21, 53, 82, 57, 5, 74, 84, 96, 29, 51, 94, 85, 63, 89, 29, 51, 45, 91, 73, 22, 23, 35, 2, 59, 19, 11, 83, 51, 22, 26, 53, 42, 7, 71, 70, 45, 39, 15, 88, 58, 68, 65, 58, 82, 31, 33, 10, 61, 35, 18, 44, 40, 55, 74, 32, 81, 83, 64, 64, 51, 59, 2, 67, 15, 79]\n"
     ]
    }
   ],
   "source": [
    "import random\n",
    "\n",
    "# GENERATE RANDOM\n",
    "nilaiTugas = []\n",
    "for i in range(250):\n",
    "    nilaiTugas.append(random.randrange(1,100,1))\n",
    "\n",
    "print(nilaiTugas)"
   ]
  },
  {
   "cell_type": "code",
   "execution_count": 9,
   "metadata": {},
   "outputs": [
    {
     "name": "stdout",
     "output_type": "stream",
     "text": [
      "('bilangan ganjil ', [69, 33, 13, 59, 85, 23, 93, 39, 99, 13, 33, 35, 23, 5, 81, 13, 23, 79, 85, 41, 29, 29, 99, 95, 55, 77, 45, 81, 99, 35, 39, 39, 7, 83, 17, 99, 7, 97, 67, 89, 79, 55, 81, 21, 71, 1, 11, 21, 1, 35, 3, 85, 49, 93, 33, 67, 41, 43, 73, 11, 89, 71, 3, 41, 29, 67, 53, 87, 17, 77, 65, 55, 23, 33, 25, 21, 63, 1, 9, 35, 1, 3, 93, 87, 59, 31, 77, 57, 37, 31, 7, 43, 17, 15, 5, 63, 73, 95, 13, 91, 25, 95, 81, 41, 41, 57, 1, 91, 65, 39, 35, 91, 43, 69, 91, 91, 99, 71, 81, 41, 99, 81, 19, 21, 19, 11, 19, 73, 69, 25, 85, 23, 45, 7, 39, 85, 97, 15, 35, 5, 21, 77, 5, 15, 95, 7, 7, 35, 13, 59, 23, 93, 21, 11, 81])\n"
     ]
    }
   ],
   "source": [
    "# Tampilkan Angka Ganjil dari ke 250 nilai tersebut\n",
    "\n",
    "bilangan_ganjil = [bilangan for bilangan in nilaiTugas  if bilangan % 2 == 1]  \n",
    "\n",
    "print (\"bilangan ganjil \", bilangan_ganjil)"
   ]
  },
  {
   "cell_type": "code",
   "execution_count": 12,
   "metadata": {},
   "outputs": [
    {
     "name": "stdout",
     "output_type": "stream",
     "text": [
      "('nialai diatas kkm', [85, 93, 99, 98, 81, 76, 79, 85, 82, 99, 95, 77, 78, 81, 94, 99, 88, 83, 92, 99, 97, 72, 89, 79, 80, 81, 98, 71, 85, 93, 73, 89, 96, 90, 71, 87, 77, 82, 78, 84, 93, 87, 96, 77, 92, 73, 95, 91, 95, 81, 91, 91, 91, 88, 91, 99, 71, 81, 99, 81, 96, 72, 73, 88, 85, 78, 85, 97, 92, 77, 95, 93, 81])\n"
     ]
    }
   ],
   "source": [
    "# Tampilkan berapa banyak yang mendapatkan nilai lebih dari 70\n",
    "\n",
    "nilaidiataskkm = [nilai for nilai in nilaiTugas if nilai > 70]\n",
    "\n",
    "print (\"nilai diatas kkm\",nilaidiataskkm)"
   ]
  },
  {
   "cell_type": "code",
   "execution_count": 12,
   "metadata": {},
   "outputs": [
    {
     "name": "stdout",
     "output_type": "stream",
     "text": [
      "('standart deviasi', 27.76688675382964)\n"
     ]
    }
   ],
   "source": [
    "# Tampilkan standar deviasi dari sekumpulan nilai tersebut\n",
    "\n",
    "total=0\n",
    "total_2=0\n",
    "\n",
    "for nilai in nilaiTugas:\n",
    "    total=total+nilai\n",
    "    total_2=total_2+nilai**2\n",
    "    \n",
    "n=len(nilaiTugas)\n",
    "ss= (n*total_2-total**2)/(n*(n-1))  \n",
    "import math\n",
    "sss=math.sqrt(ss)\n",
    "\n",
    "print (\"standart deviasi\",sss)\n",
    "    "
   ]
  },
  {
   "cell_type": "code",
   "execution_count": 17,
   "metadata": {},
   "outputs": [
    {
     "name": "stdout",
     "output_type": "stream",
     "text": [
      "('Nilai Minimal', 81)\n",
      "('Nilai Maksimal', 0)\n"
     ]
    }
   ],
   "source": [
    "# Tampilkan nilai maksimum dan minimum\n",
    "\n",
    "Nilaimin = 100\n",
    "Nilaimaks = 0 \n",
    "\n",
    "for nilai in nilaiTugas:\n",
    "    if nilai < nilaiTugas:\n",
    "        Nilaimin = nilai\n",
    "    if nilai > nilaiTugas:\n",
    "        Nilaimaks = nilai\n",
    "        \n",
    "print (\"Nilai Minimal\",Nilaimin)\n",
    "print (\"Nilai Maksimal\",Nilaimaks)"
   ]
  },
  {
   "cell_type": "code",
   "execution_count": 17,
   "metadata": {},
   "outputs": [
    {
     "name": "stdout",
     "output_type": "stream",
     "text": [
      "('modus sebanyak', 99, 'sebanyak', 6)\n"
     ]
    }
   ],
   "source": [
    "# Tampilkan modus dari sekumpulan nilai tersebut\n",
    "\n",
    "nilaiDict = dict()\n",
    "for nilai in nilaiTugas:\n",
    "    nilaiDict[nilai]= nilaiDict.get(nilai,0)+1\n",
    "    \n",
    "nilaiList= list()\n",
    "for nilai, count in nilaiDict.items():\n",
    "    nilaiList.append((count, nilai))\n",
    "    \n",
    "nilaiList.sort(reverse = True)\n",
    "\n",
    "print (\"modus sebanyak\", nilaiList[0][1], \"sebanyak\",nilaiList[0][0])"
   ]
  },
  {
   "cell_type": "code",
   "execution_count": null,
   "metadata": {},
   "outputs": [],
   "source": []
  }
 ],
 "metadata": {
  "kernelspec": {
   "display_name": "Python 2",
   "language": "python",
   "name": "python2"
  },
  "language_info": {
   "codemirror_mode": {
    "name": "ipython",
    "version": 2
   },
   "file_extension": ".py",
   "mimetype": "text/x-python",
   "name": "python",
   "nbconvert_exporter": "python",
   "pygments_lexer": "ipython2",
   "version": "2.7.15"
  }
 },
 "nbformat": 4,
 "nbformat_minor": 2
}
