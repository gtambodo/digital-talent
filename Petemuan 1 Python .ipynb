{
 "cells": [
  {
   "cell_type": "markdown",
   "metadata": {},
   "source": [
    "# 1.Sintaks Dasar  \n",
    " Print di gunakan untuk mengeluarkan output pada layar\n"
   ]
  },
  {
   "cell_type": "code",
   "execution_count": 5,
   "metadata": {},
   "outputs": [
    {
     "name": "stdout",
     "output_type": "stream",
     "text": [
      "Hello World\n"
     ]
    }
   ],
   "source": [
    "print(\"Hello World\")"
   ]
  },
  {
   "cell_type": "code",
   "execution_count": 7,
   "metadata": {},
   "outputs": [
    {
     "name": "stdout",
     "output_type": "stream",
     "text": [
      "24\n",
      "4096\n"
     ]
    }
   ],
   "source": [
    "a = 2 \n",
    "b = 12\n",
    "print (a*b)\n",
    "print (a**b)"
   ]
  },
  {
   "cell_type": "markdown",
   "metadata": {},
   "source": [
    "## Variabel \n",
    "Variabel adalah "
   ]
  },
  {
   "cell_type": "code",
   "execution_count": 11,
   "metadata": {},
   "outputs": [
    {
     "name": "stdout",
     "output_type": "stream",
     "text": [
      "6\n",
      "6\n",
      "6\n"
     ]
    }
   ],
   "source": [
    "x = y = z = 6\n",
    "\n",
    "print (x)\n",
    "print (y)\n",
    "print (z)"
   ]
  },
  {
   "cell_type": "code",
   "execution_count": 9,
   "metadata": {},
   "outputs": [
    {
     "name": "stdout",
     "output_type": "stream",
     "text": [
      "2\n",
      "12\n",
      "e-xcel\n"
     ]
    }
   ],
   "source": [
    "a, d, c = 2, 4, \"e-xcel\"\n",
    "\n",
    "print (a)\n",
    "print (b)\n",
    "print (c)"
   ]
  },
  {
   "cell_type": "markdown",
   "metadata": {},
   "source": [
    "## tipe data \n"
   ]
  },
  {
   "cell_type": "markdown",
   "metadata": {},
   "source": [
    "### Number\n",
    "Latihan\n"
   ]
  },
  {
   "cell_type": "code",
   "execution_count": 12,
   "metadata": {},
   "outputs": [
    {
     "name": "stdout",
     "output_type": "stream",
     "text": [
      "(7, 'mempunya type', <type 'int'>)\n"
     ]
    }
   ],
   "source": [
    "a = 7 \n",
    "print(a, \"mempunya type\", type(a))"
   ]
  },
  {
   "cell_type": "code",
   "execution_count": 13,
   "metadata": {},
   "outputs": [
    {
     "name": "stdout",
     "output_type": "stream",
     "text": [
      "(7.0, 'mempunya type', <type 'float'>)\n"
     ]
    }
   ],
   "source": [
    "a = 7.0\n",
    "print(a, \"mempunya type\", type(a))"
   ]
  },
  {
   "cell_type": "code",
   "execution_count": null,
   "metadata": {},
   "outputs": [],
   "source": []
  },
  {
   "cell_type": "markdown",
   "metadata": {},
   "source": [
    "### Boolean \n",
    "Benar atau Salah "
   ]
  },
  {
   "cell_type": "code",
   "execution_count": 14,
   "metadata": {},
   "outputs": [
    {
     "name": "stdout",
     "output_type": "stream",
     "text": [
      "(False, 'mempunya type', <type 'bool'>)\n"
     ]
    }
   ],
   "source": [
    "a = 5>6\n",
    "\n",
    "print(a, \"mempunya type\", type(a))"
   ]
  },
  {
   "cell_type": "code",
   "execution_count": 15,
   "metadata": {},
   "outputs": [
    {
     "name": "stdout",
     "output_type": "stream",
     "text": [
      "(True, 'mempunya type', <type 'bool'>)\n"
     ]
    }
   ],
   "source": [
    "a = 6>5\n",
    "\n",
    "print(a, \"mempunya type\", type(a))"
   ]
  },
  {
   "cell_type": "markdown",
   "metadata": {},
   "source": [
    "### String "
   ]
  },
  {
   "cell_type": "code",
   "execution_count": 18,
   "metadata": {},
   "outputs": [
    {
     "name": "stdout",
     "output_type": "stream",
     "text": [
      "('ini adalah string', 'mempunya type', <type 'str'>)\n"
     ]
    }
   ],
   "source": [
    "a = \"ini adalah string\"\n",
    "\n",
    "print(a, \"mempunya type\", type(a))"
   ]
  },
  {
   "cell_type": "code",
   "execution_count": 19,
   "metadata": {},
   "outputs": [
    {
     "name": "stdout",
     "output_type": "stream",
     "text": [
      "9\n"
     ]
    }
   ],
   "source": [
    "a = 4\n",
    "b = 6\n",
    "a = a + 5\n",
    "print(a)"
   ]
  },
  {
   "cell_type": "code",
   "execution_count": 20,
   "metadata": {},
   "outputs": [
    {
     "name": "stdout",
     "output_type": "stream",
     "text": [
      "9\n",
      "54\n",
      "56\n"
     ]
    }
   ],
   "source": [
    "a = 4\n",
    "b = 6\n",
    "a = a + 5\n",
    "print(a)\n",
    "a = a * 6\n",
    "print(a)\n",
    "a = a + 2\n",
    "print(a)"
   ]
  },
  {
   "cell_type": "markdown",
   "metadata": {},
   "source": [
    "# Latihan \n"
   ]
  },
  {
   "cell_type": "code",
   "execution_count": 21,
   "metadata": {},
   "outputs": [
    {
     "ename": "SyntaxError",
     "evalue": "invalid syntax (<ipython-input-21-0ae0a2c1bf00>, line 1)",
     "output_type": "error",
     "traceback": [
      "\u001b[1;36m  File \u001b[1;32m\"<ipython-input-21-0ae0a2c1bf00>\"\u001b[1;36m, line \u001b[1;32m1\u001b[0m\n\u001b[1;33m    Harga buku = 100000\u001b[0m\n\u001b[1;37m             ^\u001b[0m\n\u001b[1;31mSyntaxError\u001b[0m\u001b[1;31m:\u001b[0m invalid syntax\n"
     ]
    }
   ],
   "source": [
    "Harga buku = 100000"
   ]
  },
  {
   "cell_type": "code",
   "execution_count": 28,
   "metadata": {},
   "outputs": [
    {
     "name": "stdout",
     "output_type": "stream",
     "text": [
      "4134000\n"
     ]
    }
   ],
   "source": [
    "harga_buku = 100000\n",
    "dikon = 40\n",
    "ongkir = 3000\n",
    "selanjutnya = 9000\n",
    "jumlah = 60 \n",
    "\n",
    "harga_diskon = harga_buku * (100-dikon)/100\n",
    "harga_total = harga_diskon * jumlah\n",
    "ongkir_total = ongkir + selanjutnya * (jumlah-1)\n",
    "\n",
    "Total = harga_total + ongkir_total\n",
    "\n",
    "print (Total)\n"
   ]
  },
  {
   "cell_type": "code",
   "execution_count": 29,
   "metadata": {},
   "outputs": [
    {
     "name": "stdout",
     "output_type": "stream",
     "text": [
      "Lulus\n",
      "selamat\n",
      "program selesai\n"
     ]
    }
   ],
   "source": [
    "nilai = 97 \n",
    "if nilai > 92 :\n",
    "    print(\"Lulus\")\n",
    "    print (\"selamat\")\n",
    "    \n",
    "print (\"program selesai\")"
   ]
  },
  {
   "cell_type": "code",
   "execution_count": 33,
   "metadata": {},
   "outputs": [
    {
     "name": "stdout",
     "output_type": "stream",
     "text": [
      "program selesai\n"
     ]
    }
   ],
   "source": [
    "nilai = 91 \n",
    "if nilai > 92 :\n",
    "    print(\"Lulus\")\n",
    "    print (\"selamat\")\n",
    "    \n",
    "print (\"program selesai\")"
   ]
  },
  {
   "cell_type": "code",
   "execution_count": 36,
   "metadata": {},
   "outputs": [
    {
     "name": "stdout",
     "output_type": "stream",
     "text": [
      "Anda Belum Berhasil\n",
      "Program Selesai\n"
     ]
    }
   ],
   "source": [
    "nilai = 91\n",
    "if nilai > 92 :\n",
    "    print(\"Lulus\")\n",
    "    print (\"selamat\")\n",
    "else:\n",
    "    print (\"Anda Belum Berhasil\")\n",
    "    \n",
    "print (\"Program Selesai\")"
   ]
  },
  {
   "cell_type": "code",
   "execution_count": 39,
   "metadata": {},
   "outputs": [
    {
     "name": "stdout",
     "output_type": "stream",
     "text": [
      "Anda masuk waiting List\n",
      "Program Selesai\n"
     ]
    }
   ],
   "source": [
    "nilai = 91\n",
    "if nilai > 92 :\n",
    "    print(\"Lulus\")\n",
    "    print (\"selamat\")\n",
    "elif nilai > 89:\n",
    "    print (\"Anda masuk waiting List\")\n",
    "else:\n",
    "    print (\"Anda Belum Berhasil\")\n",
    "    \n",
    "print (\"Program Selesai\")"
   ]
  },
  {
   "cell_type": "code",
   "execution_count": 3,
   "metadata": {},
   "outputs": [
    {
     "name": "stdout",
     "output_type": "stream",
     "text": [
      "anda berhak mendapatkan beasiswa\n",
      "program selesai\n"
     ]
    }
   ],
   "source": [
    "nilai = 92\n",
    "umur  = 18\n",
    "\n",
    "if nilai > 90 :\n",
    "    if umur >= 18 :\n",
    "          print (\"anda berhak mendapatkan beasiswa\")\n",
    "    else :\n",
    "          print (\"anda belum berhak mendapatkan beasiswa\")\n",
    "            \n",
    "else :\n",
    "    print (\"anda belum berhak mendapatkan beasiswa\")\n",
    "print (\"program selesai\")            "
   ]
  },
  {
   "cell_type": "code",
   "execution_count": 1,
   "metadata": {},
   "outputs": [
    {
     "name": "stdout",
     "output_type": "stream",
     "text": [
      "('x + y =', 19)\n",
      "('x - y =', 11)\n",
      "('x * y =', 60)\n",
      "('x / y =', 3)\n",
      "('x // y =', 3)\n",
      "('x ** y =', 50625)\n"
     ]
    }
   ],
   "source": [
    "x = 15\n",
    "y = 4\n",
    "\n",
    "# Output: x + y = 19\n",
    "print('x + y =',x+y)\n",
    "\n",
    "# Output: x - y = 11\n",
    "print('x - y =',x-y)\n",
    "\n",
    "# Output: x * y = 60\n",
    "print('x * y =',x*y)\n",
    "\n",
    "# Output: x / y = 3.75\n",
    "print('x / y =',x/y)\n",
    "\n",
    "# Output: x // y = 3\n",
    "print('x // y =',x//y)\n",
    "\n",
    "# Output: x ** y = 50625\n",
    "print('x ** y =',x**y)"
   ]
  },
  {
   "cell_type": "code",
   "execution_count": null,
   "metadata": {},
   "outputs": [],
   "source": []
  }
 ],
 "metadata": {
  "kernelspec": {
   "display_name": "Python 2",
   "language": "python",
   "name": "python2"
  },
  "language_info": {
   "codemirror_mode": {
    "name": "ipython",
    "version": 2
   },
   "file_extension": ".py",
   "mimetype": "text/x-python",
   "name": "python",
   "nbconvert_exporter": "python",
   "pygments_lexer": "ipython2",
   "version": "2.7.15"
  }
 },
 "nbformat": 4,
 "nbformat_minor": 2
}
